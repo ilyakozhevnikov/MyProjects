{
 "cells": [
  {
   "cell_type": "code",
   "execution_count": 321,
   "id": "cc3cf7cb",
   "metadata": {},
   "outputs": [],
   "source": [
    "import numpy as np\n",
    "import pandas as pd\n",
    "from sklearn.datasets import load_boston\n",
    "from sklearn.model_selection import train_test_split\n",
    "from sklearn.metrics import mean_squared_error\n",
    "import torch\n",
    "from torch.utils.data import TensorDataset, DataLoader\n",
    "from torch import autograd"
   ]
  },
  {
   "cell_type": "code",
   "execution_count": 322,
   "id": "9aaf3009",
   "metadata": {},
   "outputs": [],
   "source": [
    "df = load_boston()\n",
    "X = torch.tensor(df.data)\n",
    "y = torch.tensor(df.target)\n",
    "X_train, X_test, y_train, y_test = train_test_split(X, y, test_size=.25, random_state=42)"
   ]
  },
  {
   "cell_type": "code",
   "execution_count": 323,
   "id": "e86f268a",
   "metadata": {},
   "outputs": [],
   "source": [
    "batch_size = 10\n",
    "dataset = TensorDataset(X_train, y_train)\n",
    "data_iter = DataLoader(dataset, batch_size, shuffle=True)"
   ]
  },
  {
   "cell_type": "code",
   "execution_count": 324,
   "id": "f054163f",
   "metadata": {},
   "outputs": [
    {
     "name": "stdout",
     "output_type": "stream",
     "text": [
      "Epoch No. 1, loss: 315.6072545893381\n",
      "Epoch No. 2, loss: 106.25682496399986\n",
      "Epoch No. 3, loss: 103.27143509473969\n",
      "Epoch No. 4, loss: 102.5781946939594\n",
      "Epoch No. 5, loss: 101.65386071657542\n",
      "Epoch No. 6, loss: 101.16868998326159\n",
      "Epoch No. 7, loss: 100.97255592072487\n",
      "Epoch No. 8, loss: 100.52426937044252\n",
      "Epoch No. 9, loss: 100.65281034441865\n",
      "Epoch No. 10, loss: 100.21568890802635\n",
      "Epoch No. 500, loss: 83.55618759248509\n",
      "Epoch No. 1000, loss: 74.94558062483854\n",
      "Epoch No. 1500, loss: 68.61467861699195\n",
      "Epoch No. 2000, loss: 63.872199249720765\n",
      "Epoch No. 2500, loss: 60.27959224965838\n",
      "Epoch No. 3000, loss: 57.455344628568255\n",
      "Epoch No. 3500, loss: 55.26653568323728\n",
      "Epoch No. 4000, loss: 53.63179612113174\n",
      "Epoch No. 4500, loss: 52.25149246123977\n",
      "Epoch No. 5000, loss: 51.226830854361964\n"
     ]
    }
   ],
   "source": [
    "neural_network = torch.nn.Sequential(torch.nn.Linear(13, 1))\n",
    "neural_network[0] = neural_network[0].to(torch.float64)\n",
    "neural_network\n",
    "\n",
    "loss = torch.nn.MSELoss(reduction='mean')\n",
    "trainer = torch.optim.SGD(neural_network.parameters(), lr=0.0000001)\n",
    "\n",
    "for epoch in range(1, 5001):\n",
    "    for X_batch, y_batch in data_iter:\n",
    "        trainer.zero_grad()\n",
    "        pred = neural_network(X_batch).reshape(-1)\n",
    "        l = loss(pred, y_batch)\n",
    "        l.backward()\n",
    "        trainer.step()\n",
    "    total_pred = neural_network(X_train).reshape(-1)\n",
    "    l = loss(total_pred, y_train)\n",
    "    if epoch < 11 or epoch % 500 == 0:\n",
    "        print(f'Epoch No. {epoch}, loss: {l}')\n",
    "\n",
    "# congrats to me, my first neural network is created and trained!"
   ]
  },
  {
   "cell_type": "code",
   "execution_count": 325,
   "id": "54f168e7",
   "metadata": {},
   "outputs": [
    {
     "name": "stdout",
     "output_type": "stream",
     "text": [
      "47.27274144318171\n"
     ]
    }
   ],
   "source": [
    "test_pred = neural_network(X_test).reshape(-1)\n",
    "print(mean_squared_error(test_pred.detach().numpy(), y_test.detach().numpy()))"
   ]
  },
  {
   "cell_type": "code",
   "execution_count": null,
   "id": "fee5ddc5",
   "metadata": {},
   "outputs": [],
   "source": []
  }
 ],
 "metadata": {
  "kernelspec": {
   "display_name": "Python 3 (ipykernel)",
   "language": "python",
   "name": "python3"
  },
  "language_info": {
   "codemirror_mode": {
    "name": "ipython",
    "version": 3
   },
   "file_extension": ".py",
   "mimetype": "text/x-python",
   "name": "python",
   "nbconvert_exporter": "python",
   "pygments_lexer": "ipython3",
   "version": "3.9.7"
  }
 },
 "nbformat": 4,
 "nbformat_minor": 5
}
