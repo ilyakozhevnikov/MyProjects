{
 "cells": [
  {
   "cell_type": "code",
   "execution_count": 109,
   "id": "cc3cf7cb",
   "metadata": {},
   "outputs": [],
   "source": [
    "import numpy as np\n",
    "import pandas as pd\n",
    "import torch\n",
    "from torch import autograd\n",
    "from torch.utils.data import TensorDataset, DataLoader\n",
    "import torchvision as tv\n",
    "from sklearn.metrics import mean_squared_error, accuracy_score\n",
    "import matplotlib.pyplot as plt"
   ]
  },
  {
   "cell_type": "code",
   "execution_count": 110,
   "id": "065d1b57",
   "metadata": {},
   "outputs": [],
   "source": [
    "BATCH_SIZE = 256\n",
    "def show_pic(pic):\n",
    "    plt.imshow(pic.numpy().reshape(28,28), cmap='gray')"
   ]
  },
  {
   "cell_type": "code",
   "execution_count": 111,
   "id": "d772adea",
   "metadata": {},
   "outputs": [],
   "source": [
    "train_dataset = tv.datasets.FashionMNIST('.', train=True, transform=tv.transforms.ToTensor(), download=True)\n",
    "test_dataset = tv.datasets.FashionMNIST('.', train=False, transform=tv.transforms.ToTensor(), download=True)\n",
    "train = torch.utils.data.DataLoader(train_dataset, batch_size=BATCH_SIZE)"
   ]
  },
  {
   "cell_type": "code",
   "execution_count": 143,
   "id": "3a351b5b",
   "metadata": {},
   "outputs": [
    {
     "name": "stdout",
     "output_type": "stream",
     "text": [
      "Epoch No.1, train loss: 0.433793306350708, train acc: 0.8463666439056396, test loss: 0.37361353635787964, test acc: 0.8651\n",
      "Epoch No.2, train loss: 0.31046488881111145, train acc: 0.8860166668891907, test loss: 0.34683990478515625, test acc: 0.8736\n",
      "Epoch No.3, train loss: 0.2689378261566162, train acc: 0.9006666541099548, test loss: 0.33656376600265503, test acc: 0.8776\n",
      "Epoch No.4, train loss: 0.23747779428958893, train acc: 0.9125000238418579, test loss: 0.3339919447898865, test acc: 0.8815\n",
      "Epoch No.5, train loss: 0.21094511449337006, train acc: 0.9231500029563904, test loss: 0.33238887786865234, test acc: 0.8846\n",
      "Epoch No.6, train loss: 0.18722575902938843, train acc: 0.9321833252906799, test loss: 0.3363695442676544, test acc: 0.8859\n",
      "Epoch No.7, train loss: 0.16669557988643646, train acc: 0.9396166801452637, test loss: 0.3570007085800171, test acc: 0.8853\n",
      "Epoch No.8, train loss: 0.1510605663061142, train acc: 0.9451833367347717, test loss: 0.3640090823173523, test acc: 0.8879\n",
      "Epoch No.9, train loss: 0.13864532113075256, train acc: 0.949483335018158, test loss: 0.38012996315956116, test acc: 0.8856\n",
      "Epoch No.10, train loss: 0.1253807693719864, train acc: 0.9554833173751831, test loss: 0.3879909813404083, test acc: 0.8874\n",
      "Epoch No.11, train loss: 0.11382751166820526, train acc: 0.9590499997138977, test loss: 0.39946940541267395, test acc: 0.8858\n",
      "Epoch No.12, train loss: 0.1065075546503067, train acc: 0.9619333148002625, test loss: 0.4164806604385376, test acc: 0.8845\n",
      "Epoch No.13, train loss: 0.09815068542957306, train acc: 0.9639333486557007, test loss: 0.4237193763256073, test acc: 0.8863\n",
      "Epoch No.14, train loss: 0.0862438827753067, train acc: 0.9689499735832214, test loss: 0.44339457154273987, test acc: 0.8805\n",
      "Epoch No.15, train loss: 0.08016557991504669, train acc: 0.9714333415031433, test loss: 0.4447343647480011, test acc: 0.8822\n",
      "Switched from Adam to SGD\n",
      "Epoch No.16, train loss: 0.09022148698568344, train acc: 0.9672333598136902, test loss: 0.40588223934173584, test acc: 0.8917\n",
      "Epoch No.17, train loss: 0.07278527319431305, train acc: 0.9738333225250244, test loss: 0.3985564112663269, test acc: 0.8944\n",
      "Epoch No.18, train loss: 0.06600046157836914, train acc: 0.9767333269119263, test loss: 0.3953089416027069, test acc: 0.8963\n",
      "Epoch No.19, train loss: 0.06165017560124397, train acc: 0.9784666895866394, test loss: 0.3936416506767273, test acc: 0.8984\n",
      "Epoch No.20, train loss: 0.058456335216760635, train acc: 0.9799666404724121, test loss: 0.3928111791610718, test acc: 0.8985\n",
      "Epoch No.21, train loss: 0.05595562234520912, train acc: 0.9809333086013794, test loss: 0.3924858868122101, test acc: 0.8998\n",
      "Epoch No.22, train loss: 0.05391283333301544, train acc: 0.9819166660308838, test loss: 0.3924858570098877, test acc: 0.9011\n",
      "Epoch No.23, train loss: 0.05218996852636337, train acc: 0.9825166463851929, test loss: 0.3927038609981537, test acc: 0.9025\n",
      "Epoch No.24, train loss: 0.05070040747523308, train acc: 0.9829833507537842, test loss: 0.3930729329586029, test acc: 0.9029\n",
      "Epoch No.25, train loss: 0.04938746243715286, train acc: 0.9835833311080933, test loss: 0.39354923367500305, test acc: 0.9033\n",
      "Epoch No.26, train loss: 0.04821234941482544, train acc: 0.9840999841690063, test loss: 0.39410367608070374, test acc: 0.9035\n",
      "Epoch No.27, train loss: 0.047147784382104874, train acc: 0.9846833348274231, test loss: 0.3947162926197052, test acc: 0.9036\n",
      "Epoch No.28, train loss: 0.04617392271757126, train acc: 0.9851833581924438, test loss: 0.39537313580513, test acc: 0.9039\n",
      "Epoch No.29, train loss: 0.04527591913938522, train acc: 0.9854333400726318, test loss: 0.3960643410682678, test acc: 0.9039\n",
      "Epoch No.30, train loss: 0.044442422688007355, train acc: 0.9857666492462158, test loss: 0.39678245782852173, test acc: 0.9039\n",
      "Epoch No.31, train loss: 0.04366433992981911, train acc: 0.9861500263214111, test loss: 0.39752164483070374, test acc: 0.9043\n",
      "Epoch No.32, train loss: 0.04293427988886833, train acc: 0.9863666892051697, test loss: 0.39827725291252136, test acc: 0.9043\n",
      "Epoch No.33, train loss: 0.04224604740738869, train acc: 0.9867333173751831, test loss: 0.3990456163883209, test acc: 0.9036\n",
      "Epoch No.34, train loss: 0.04159452021121979, train acc: 0.9870666861534119, test loss: 0.3998238146305084, test acc: 0.9032\n",
      "Epoch No.35, train loss: 0.04097535088658333, train acc: 0.9873833060264587, test loss: 0.4006098508834839, test acc: 0.9032\n",
      "Epoch No.36, train loss: 0.04038488492369652, train acc: 0.9875333309173584, test loss: 0.4014020562171936, test acc: 0.903\n",
      "Epoch No.37, train loss: 0.039820052683353424, train acc: 0.987766683101654, test loss: 0.40219929814338684, test acc: 0.9033\n",
      "Epoch No.38, train loss: 0.03927821293473244, train acc: 0.9879666566848755, test loss: 0.40300071239471436, test acc: 0.9035\n",
      "Epoch No.39, train loss: 0.038757044821977615, train acc: 0.9883999824523926, test loss: 0.403805673122406, test acc: 0.9036\n",
      "Epoch No.40, train loss: 0.03825468197464943, train acc: 0.9886000156402588, test loss: 0.4046136736869812, test acc: 0.9034\n"
     ]
    }
   ],
   "source": [
    "nn = torch.nn.Sequential(\n",
    "    torch.nn.Flatten(),\n",
    "    torch.nn.Linear(784, 512),\n",
    "    torch.nn.BatchNorm1d(512),\n",
    "    torch.nn.GELU(),\n",
    "    torch.nn.Linear(512, 256),\n",
    "    torch.nn.BatchNorm1d(256),\n",
    "    torch.nn.GELU(),\n",
    "    torch.nn.Linear(256, 10)\n",
    ")\n",
    "\n",
    "loss_func = torch.nn.CrossEntropyLoss()\n",
    "trainer = torch.optim.Adam(nn.parameters(), lr=0.001)\n",
    "\n",
    "for epoch in range(1, 16):\n",
    "    train_loss = 0\n",
    "    batches_num = 0\n",
    "    \n",
    "    train_correctly_predicted = 0\n",
    "    train_total = 0\n",
    "    \n",
    "    for X, y in train:\n",
    "        trainer.zero_grad()\n",
    "        y_pred = nn(X)\n",
    "        train_l = loss_func(y_pred, y)\n",
    "        train_l.backward()\n",
    "        trainer.step()\n",
    "        \n",
    "        train_loss += train_l\n",
    "        batches_num += 1\n",
    "        \n",
    "        train_total += len(X)\n",
    "        train_correctly_predicted += (y_pred.argmax(dim=1) == y).sum()\n",
    "    \n",
    "    train_loss /= batches_num\n",
    "    train_accuracy = train_correctly_predicted / train_total\n",
    "    \n",
    "    test_pred_y = nn(test_dataset.data.to(torch.float32)).detach()\n",
    "    test_true_y = test_dataset.targets\n",
    "    \n",
    "    test_loss = loss_func(test_pred_y, test_true_y)\n",
    "    test_accuracy = accuracy_score(test_pred_y.argmax(dim=1), test_true_y)\n",
    "    \n",
    "    print(f\"Epoch No.{epoch}, train loss: {train_loss}, train acc: {train_accuracy}, test loss: {test_loss}, test acc: {test_accuracy}\")\n",
    "\n",
    "print('Switched from Adam to SGD')\n",
    "    \n",
    "trainer = torch.optim.SGD(nn.parameters(), lr=0.01)\n",
    "\n",
    "for epoch in range(16, 41):\n",
    "    train_loss = 0\n",
    "    batches_num = 0\n",
    "    \n",
    "    train_correctly_predicted = 0\n",
    "    train_total = 0\n",
    "    \n",
    "    for X, y in train:\n",
    "        trainer.zero_grad()\n",
    "        y_pred = nn(X)\n",
    "        train_l = loss_func(y_pred, y)\n",
    "        train_l.backward()\n",
    "        trainer.step()\n",
    "        \n",
    "        train_loss += train_l\n",
    "        batches_num += 1\n",
    "        \n",
    "        train_total += len(X)\n",
    "        train_correctly_predicted += (y_pred.argmax(dim=1) == y).sum()\n",
    "    \n",
    "    train_loss /= batches_num\n",
    "    train_accuracy = train_correctly_predicted / train_total\n",
    "    \n",
    "    test_pred_y = nn(test_dataset.data.to(torch.float32)).detach()\n",
    "    test_true_y = test_dataset.targets\n",
    "    \n",
    "    test_loss = loss_func(test_pred_y, test_true_y)\n",
    "    test_accuracy = accuracy_score(test_pred_y.argmax(dim=1), test_true_y)\n",
    "    \n",
    "    print(f\"Epoch No.{epoch}, train loss: {train_loss}, train acc: {train_accuracy}, test loss: {test_loss}, test acc: {test_accuracy}\")\n"
   ]
  },
  {
   "cell_type": "code",
   "execution_count": 145,
   "id": "08b8e032",
   "metadata": {},
   "outputs": [
    {
     "name": "stdout",
     "output_type": "stream",
     "text": [
      "Final accuracy on test dataset: 0.9034\n"
     ]
    }
   ],
   "source": [
    "pred_y = nn(test_dataset.data.to(torch.float32)).argmax(dim=1)\n",
    "true_y = test_dataset.targets\n",
    "print('Final accuracy on test dataset:', accuracy_score(pred_y, true_y))"
   ]
  },
  {
   "cell_type": "code",
   "execution_count": null,
   "id": "32ed8859",
   "metadata": {},
   "outputs": [],
   "source": []
  },
  {
   "cell_type": "code",
   "execution_count": null,
   "id": "532b3745",
   "metadata": {},
   "outputs": [],
   "source": []
  },
  {
   "cell_type": "code",
   "execution_count": null,
   "id": "cc42b99b",
   "metadata": {},
   "outputs": [],
   "source": []
  }
 ],
 "metadata": {
  "kernelspec": {
   "display_name": "Python 3 (ipykernel)",
   "language": "python",
   "name": "python3"
  },
  "language_info": {
   "codemirror_mode": {
    "name": "ipython",
    "version": 3
   },
   "file_extension": ".py",
   "mimetype": "text/x-python",
   "name": "python",
   "nbconvert_exporter": "python",
   "pygments_lexer": "ipython3",
   "version": "3.9.7"
  }
 },
 "nbformat": 4,
 "nbformat_minor": 5
}
