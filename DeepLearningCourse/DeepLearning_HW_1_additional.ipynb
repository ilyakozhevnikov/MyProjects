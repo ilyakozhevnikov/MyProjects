{
 "cells": [
  {
   "cell_type": "code",
   "execution_count": 554,
   "id": "cc3cf7cb",
   "metadata": {},
   "outputs": [],
   "source": [
    "import numpy as np\n",
    "import pandas as pd\n",
    "from sklearn.model_selection import train_test_split\n",
    "from sklearn.metrics import mean_squared_error, accuracy_score\n",
    "import torch\n",
    "from torch.utils.data import TensorDataset, DataLoader\n",
    "from torch import autograd\n",
    "from torchvision.datasets import MNIST\n",
    "from sklearn.naive_bayes import GaussianNB"
   ]
  },
  {
   "cell_type": "code",
   "execution_count": 549,
   "id": "d8c7d17e",
   "metadata": {},
   "outputs": [],
   "source": [
    "mnist = MNIST(r'C:\\Users\\ilyak\\Downloads\\mnist')\n",
    "X, y = mnist.data.reshape(60000, 28*28), mnist.targets\n",
    "X, y = X.to(torch.float64), y.to(torch.int64)\n",
    "X_train, X_test, y_train, y_test = train_test_split(X, y, test_size=0.25, random_state=77)"
   ]
  },
  {
   "cell_type": "code",
   "execution_count": 550,
   "id": "0b46d3bc",
   "metadata": {},
   "outputs": [],
   "source": [
    "dataset = TensorDataset(X_train, y_train)\n",
    "data_loader = DataLoader(dataset, 10, shuffle=True)"
   ]
  },
  {
   "cell_type": "code",
   "execution_count": 552,
   "id": "5b3d6b6e",
   "metadata": {},
   "outputs": [
    {
     "name": "stdout",
     "output_type": "stream",
     "text": [
      "Epoch No. 1, loss: 1.815486529891147\n",
      "Epoch No. 2, loss: 1.7740521952999606\n",
      "Epoch No. 3, loss: 1.7570059505889437\n",
      "Epoch No. 4, loss: 1.7508375404170984\n",
      "Epoch No. 5, loss: 1.7431050301254287\n",
      "Epoch No. 6, loss: 1.7396943897630854\n",
      "Epoch No. 7, loss: 1.7367405034744148\n",
      "Epoch No. 8, loss: 1.7371774829720463\n",
      "Epoch No. 9, loss: 1.7306575699632076\n",
      "Epoch No. 10, loss: 1.730265287150649\n",
      "Epoch No. 11, loss: 1.7317122570194152\n",
      "Epoch No. 12, loss: 1.7266844241012114\n",
      "Epoch No. 13, loss: 1.7310940692123336\n",
      "Epoch No. 14, loss: 1.7266993440982408\n",
      "Epoch No. 15, loss: 1.7276091906961164\n"
     ]
    }
   ],
   "source": [
    "nn = torch.nn.Sequential(torch.nn.Linear(28*28, 10))\n",
    "nn[0] = nn[0].to(torch.float64)\n",
    "\n",
    "loss = torch.nn.CrossEntropyLoss()\n",
    "trainer = torch.optim.SGD(nn.parameters(), lr=0.0001)\n",
    "\n",
    "for epoch in range(1, 16):\n",
    "    for features, target in data_loader:\n",
    "        trainer.zero_grad()\n",
    "        pred = torch.nn.functional.softmax(input=nn(features), dim=1)\n",
    "        target = torch.nn.functional.one_hot(input=target, num_classes=10).to(torch.float64)\n",
    "        l = loss(pred, target)\n",
    "        l.backward()\n",
    "        trainer.step()\n",
    "    total_pred = torch.nn.functional.softmax(input=nn(X_train), dim=1)\n",
    "    l = loss(total_pred, torch.nn.functional.one_hot(input=y_train, num_classes=10).to(torch.float64))\n",
    "    print(f'Epoch No. {epoch}, loss: {l}')"
   ]
  },
  {
   "cell_type": "code",
   "execution_count": 553,
   "id": "ca6d561a",
   "metadata": {},
   "outputs": [
    {
     "data": {
      "text/plain": [
       "0.7282666666666666"
      ]
     },
     "execution_count": 553,
     "metadata": {},
     "output_type": "execute_result"
    }
   ],
   "source": [
    "pred = torch.nn.functional.softmax(nn(X_test), dim=1).argmax(dim=1)\n",
    "accuracy_score(pred, y_test)"
   ]
  },
  {
   "cell_type": "code",
   "execution_count": 558,
   "id": "4fc492e2",
   "metadata": {},
   "outputs": [
    {
     "data": {
      "text/plain": [
       "0.5488666666666666"
      ]
     },
     "execution_count": 558,
     "metadata": {},
     "output_type": "execute_result"
    }
   ],
   "source": [
    "nb_model = GaussianNB()\n",
    "nb_model.fit(X_train, y_train)\n",
    "accuracy_score(nb_model.predict(X_test), y_test)"
   ]
  },
  {
   "cell_type": "code",
   "execution_count": null,
   "id": "89fca018",
   "metadata": {},
   "outputs": [],
   "source": []
  }
 ],
 "metadata": {
  "kernelspec": {
   "display_name": "Python 3 (ipykernel)",
   "language": "python",
   "name": "python3"
  },
  "language_info": {
   "codemirror_mode": {
    "name": "ipython",
    "version": 3
   },
   "file_extension": ".py",
   "mimetype": "text/x-python",
   "name": "python",
   "nbconvert_exporter": "python",
   "pygments_lexer": "ipython3",
   "version": "3.9.7"
  }
 },
 "nbformat": 4,
 "nbformat_minor": 5
}
